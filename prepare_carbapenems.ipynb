{
 "cells": [
  {
   "cell_type": "markdown",
   "metadata": {},
   "source": [
    "# PREPARE DATA\n",
    "\n",
    "This notebook generates the files that the notebook *figures_carbapenems.ypynb* needs for obtaining all the plots used for this project."
   ]
  },
  {
   "cell_type": "markdown",
   "metadata": {},
   "source": [
    "# TREAT DATASET "
   ]
  },
  {
   "cell_type": "code",
   "execution_count": 1,
   "metadata": {},
   "outputs": [],
   "source": [
    "from functions import *\n",
    "import os\n",
    "import sys\n",
    "import pandas as pd\n",
    "import numpy as np\n",
    "import matplotlib.pyplot as plt\n",
    "import seaborn\n",
    "#DIRECTORY\n",
    "path_main = '/Users/carmen/Desktop/carbapenems'\n",
    "os.chdir(path_main)\n",
    "#CREATE NEW DIRECTORY\n",
    "os.mkdir('/Users/carmen/Desktop/carbapenems/results') \n",
    "os.mkdir('/Users/carmen/Desktop/carbapenems/results/mic_distributions')\n",
    "os.mkdir('/Users/carmen/Desktop/carbapenems/results/Rcluster')"
   ]
  },
  {
   "cell_type": "code",
   "execution_count": null,
   "metadata": {},
   "outputs": [],
   "source": [
    "#WE READ THE EXCEL FILE\n",
    "DF=pd.read_excel('data/Carbapenems_not_treated.xlsx')\n",
    "DF=DF.rename(columns={'In / Out Patient': 'InOutPatient'})\n",
    "#WRITE DATAFRAME'S KEYS (USEFUL FOR LATER ANALYSES)\n",
    "keys=['Year', 'Country', 'Species']\n",
    "mkeys={}\n",
    "for key in keys:\n",
    "    dL=DF[key].tolist()\n",
    "    mkeys[key]={}\n",
    "    for i,z in enumerate(dL):\n",
    "        z=str(z)\n",
    "        if z not in mkeys[key]:\n",
    "            mkeys[key][z]=0  \n",
    "        mkeys[key][z]+=1\n",
    "    with open('data/key_'+key+'.txt','w') as f:\n",
    "        for z in sorted(mkeys[key], key=lambda x: (str(type(x)), x)):\n",
    "            f.write(str(z)+'\\t'+str(mkeys[key][z])+'\\n')\n",
    "\n",
    "#WE WANT TO LOG2-TRANSFORM THE MIC VALUES IN THE DATASET\n",
    "#BUT MIC VALUES APPEAR IN A VARIETY OF WAYS THROUGHOUT THE DATASET\n",
    "#FILE data/key_MIC_values.txt HOLDS ALL MIC VALUES IN THE DATASET\n",
    "#IN THE FIRST COLUMN. IN THE SECOND WE HAVE MODIFIED THEM, AND IN THE\n",
    "#THIRD WE HAVE THE LOG2-TRANSFORMED VALUES\n",
    "MICdict=[]\n",
    "with open('data/key_MIC_values.txt', 'r') as f:\n",
    "    for line in f:\n",
    "        w=line.split()\n",
    "        k1=w[0]\n",
    "        k3=float(w[2])\n",
    "        MICdict.append([k1, str(k3), len(k1)])\n",
    "MICdict=sorted(MICdict, key=itemgetter(2), reverse=True)\n",
    "\n",
    "#WE ASSIGN A RANDOM KEY TO EACH MIC VALUE BEFORE SUBSTITUTING\n",
    "import string\n",
    "import random\n",
    "def randomString(stringLength=10):\n",
    "    \"\"\"Generate a random string of fixed length \"\"\"\n",
    "    letters = string.ascii_lowercase\n",
    "    return ''.join(random.choice(letters) for i in range(stringLength))\n",
    "eggs=[randomString() for z in MICdict]\n",
    "\n",
    "#NOW WE SUBSTITUTE THEM IN THE DATASET\n",
    "drugs=read_key('Drugs', 'data/')\n",
    "for dr in drugs:\n",
    "    DF[dr]=DF[dr].astype('str')\n",
    "    for x1,y1 in zip(MICdict,eggs):\n",
    "        DF[dr]=DF[dr].str.replace(x1[0],y1)\n",
    "    for x1,y1 in zip(eggs,MICdict):\n",
    "        DF[dr]=DF[dr].str.replace(x1,y1[1])\n",
    "    DF[dr]=DF[dr].astype('float64')\n",
    "DF['Species']=DF['Species'].astype('str')\n",
    "#FINALLY, WE UNIFORMIZE SOME SPECIES\n",
    "DF['Species']=DF['Species'].str.replace('Enterobacter aerogenes', 'Klebsiella aerogenes', regex=False)\n",
    "DF['Species']=DF['Species'].str.replace('Klebsiella (Enterobacter) aerogenes', 'Klebsiella aerogenes', regex=False)\n",
    "DF['Species']=DF['Species'].str.replace('Klebsiella planticola', 'Raoultella planticola', regex=False)\n",
    "DF.to_excel('data/atlas_treated.xlsx')   \n",
    "#WRITE NEW SPECIES FILE\n",
    "mkeys={}\n",
    "dL=DF['Species'].tolist()\n",
    "for i,z in enumerate(dL):\n",
    "    z=str(z)\n",
    "    if z not in mkeys:\n",
    "        mkeys[z]=0  \n",
    "    mkeys[z]+=1\n",
    "with open('data/key_Species.txt','w') as f:\n",
    "    for z in sorted(mkeys, key=lambda x: (str(type(x)), x)):\n",
    "        f.write(str(z)+'\\t'+str(mkeys[z])+'\\n')"
   ]
  },
  {
   "cell_type": "markdown",
   "metadata": {},
   "source": [
    "# READ DATA SET\n",
    "\n",
    "Useful for later cells"
   ]
  },
  {
   "cell_type": "code",
   "execution_count": 2,
   "metadata": {},
   "outputs": [],
   "source": [
    "DF, pL, bP, drugs=read_dataset('data/')"
   ]
  },
  {
   "cell_type": "markdown",
   "metadata": {},
   "source": [
    "# DATAPOINTS PER YEAR"
   ]
  },
  {
   "cell_type": "code",
   "execution_count": 2,
   "metadata": {},
   "outputs": [],
   "source": [
    "DF=pd.read_excel('data/atlas_treated.xlsx')\n",
    "yL=list(range(2004,2018))\n",
    "spL=[]\n",
    "dataL=[]\n",
    "for year in yL:\n",
    "    DFy=DF[DF.Year==year]\n",
    "    k1=get_key(DFy,'Species')\n",
    "    dataL.append(len(DFy))\n",
    "    spL.append(len(k1))\n",
    "DFnew=pd.DataFrame({'Year':yL, 'Species': spL, 'Datapoints': dataL})\n",
    "DFnew.to_csv('data/datapoints_per_year.csv', index=False)"
   ]
  },
  {
   "cell_type": "markdown",
   "metadata": {},
   "source": [
    "# CORRELELOGRAMS"
   ]
  },
  {
   "cell_type": "code",
   "execution_count": null,
   "metadata": {},
   "outputs": [],
   "source": [
    "#CREATE NEW DIRECTORY\n",
    "from functions import *\n",
    "import os\n",
    "os.mkdir('results/correlations')\n",
    "\n",
    "#COMPUTE CORRELATIONS BETWEEN YEARS FOR EACH PA\n",
    "bins=np.arange(-10.5,11.5,1)\n",
    "z=np.zeros(len(bins))\n",
    "for sp,dr in itertools.product(pL,drugs):\n",
    "    DFsp=DF[DF.Species==sp]\n",
    "    DFc=pd.DataFrame({'Year': DFsp['Year'], dr: DFsp[dr]})\n",
    "    DFc=DFc.dropna()\n",
    "    if DFc.empty: continue\n",
    "    Y=get_key(DFc,'Year')\n",
    "    H=[z for Y in Y]#H will hold the distribution of MIC values each year\n",
    "    for i1,y in enumerate(Y):\n",
    "        DFy=DFc[DFc.Year==y]\n",
    "        h,b1=np.histogram(DFy[dr], bins=bins, density=True)\n",
    "        H[i1]=h\n",
    "    H=np.array(H)\n",
    "    R=np.corrcoef(H)#correlation between the MIC distributions in different years\n",
    "    if R.size>1:\n",
    "        np.savetxt('results/correlations/'+sp+'_'+dr+'.txt',R,fmt='%.3f')\n",
    "        np.savetxt('results/correlations/'+sp+'_'+dr+'_years.txt',Y, fmt='%d')\n",
    "#COMPUTE TAU FOR EVERY PA PAIR  \n",
    "from os import path\n",
    "Dl=[]\n",
    "for sp,dr in itertools.product(pL,drugs):\n",
    "    if path.exists('results/correlations/'+sp+'_'+dr+'.txt'):\n",
    "        R,Y=read_corr(sp, dr)\n",
    "        n,m=R.shape\n",
    "        tau,tauN=tautest(R)\n",
    "        Dl.append([sp,dr,tau,tauN,n])     \n",
    "Dl=sorted(Dl, reverse=True, key=itemgetter(2))\n",
    "DFdist=pd.DataFrame.from_records(Dl, columns=['Species', 'Antibiotic', 'Tau', 'TauN', 'N'])\n",
    "DFdist.to_csv('results/correlations/tau_test.csv', float_format='%.3f', index=False)"
   ]
  },
  {
   "cell_type": "markdown",
   "metadata": {},
   "source": [
    "# MIC DISTRIBUTIONS, GAUSSIAN MIXTURE AND R CLUSTER"
   ]
  },
  {
   "cell_type": "markdown",
   "metadata": {},
   "source": [
    "\n",
    "Datafiles to record the MIC distributions (raw and smooth) of every PA pair for all years (oH and sH), the Gaussian Mixture fit (Z), and the R cluster."
   ]
  },
  {
   "cell_type": "code",
   "execution_count": 1,
   "metadata": {},
   "outputs": [],
   "source": [
    "from functions import *\n",
    "DF, pL, bP, drugs=read_dataset('data/')\n",
    "yL=list(range(2004,2018))"
   ]
  },
  {
   "cell_type": "code",
   "execution_count": 6,
   "metadata": {},
   "outputs": [],
   "source": [
    "#GET GAUSSIAN MIXTURE FOR EACH PA PAIR\n",
    "for sp in pL:\n",
    "    for dr in drugs:\n",
    "        if dr not in bP[sp]: continue\n",
    "        pY,pM,sM=mic_dist(sp,dr,DF,bP[sp][dr][0])\n",
    "        if not pY: continue\n",
    "        #GAUSSIAN MIXTURE AND R CLUSTER\n",
    "        result=False\n",
    "        while result==False:#sometimes the Gaussian mixture doesn't work\n",
    "            try:\n",
    "                extract_rcluster(sp, dr, pY, pM, sM, DF)\n",
    "                Z,gmm_x=gaussian_mixture(pY, sM)\n",
    "                result=True\n",
    "            except:\n",
    "                pass\n",
    "        np.savetxt('results/mic_distributions/'+sp+'_'+dr+'.txt',Z,fmt='%.3f')                \n",
    "        np.savetxt('results/mic_distributions/'+sp+'_'+dr+'_years.txt',pY, fmt='%d')\n",
    "        #WRITE HISTOGRAMS\n",
    "        sH=[]\n",
    "        oH=[]\n",
    "        for i,y in enumerate(pY):\n",
    "            # Make regular histogram (SMOOTHMIC)\n",
    "            B1=np.arange(-10,10.5,0.5)\n",
    "            n1, bins1=np.histogram(sM[i], bins=B1, density=True)                     \n",
    "            # Make regular histogram (MIC)\n",
    "            B2=np.arange(-10,10.5,1)\n",
    "            n2, bins2=np.histogram(pM[i], bins=B2, density=True)\n",
    "            sH.append(n1)\n",
    "            oH.append(n2)\n",
    "        sH=np.array(sH, dtype=float)\n",
    "        oH=np.array(oH, dtype=float)\n",
    "        np.savetxt('results/mic_distributions/'+sp+'_'+dr+'_original.txt',oH,fmt='%.3f')\n",
    "        np.savetxt('results/mic_distributions/'+sp+'_'+dr+'_smooth.txt',sH,fmt='%.3f')"
   ]
  },
  {
   "cell_type": "markdown",
   "metadata": {},
   "source": [
    "# R CLUSTERS TRENDS"
   ]
  },
  {
   "cell_type": "markdown",
   "metadata": {},
   "source": [
    "**GLOBAL TRENDS**"
   ]
  },
  {
   "cell_type": "code",
   "execution_count": 2,
   "metadata": {},
   "outputs": [
    {
     "name": "stdout",
     "output_type": "stream",
     "text": [
      "Escherichia coli Doripenem\n",
      "Escherichia coli Imipenem\n",
      "Escherichia coli Meropenem\n",
      "Klebsiella pneumoniae Doripenem\n",
      "Klebsiella pneumoniae Imipenem\n",
      "Klebsiella pneumoniae Meropenem\n",
      "Pseudomonas aeruginosa Doripenem\n",
      "Pseudomonas aeruginosa Imipenem\n",
      "Pseudomonas aeruginosa Meropenem\n",
      "Enterobacter cloacae Doripenem\n",
      "Enterobacter cloacae Imipenem\n",
      "Enterobacter cloacae Meropenem\n",
      "Streptococcus pneumoniae Doripenem\n",
      "Streptococcus pneumoniae Imipenem\n",
      "Streptococcus pneumoniae Meropenem\n",
      "Haemophilus influenzae Doripenem\n"
     ]
    },
    {
     "name": "stderr",
     "output_type": "stream",
     "text": [
      "/Users/carmen/anaconda3/lib/python3.8/site-packages/numpy/core/fromnumeric.py:3372: RuntimeWarning: Mean of empty slice.\n",
      "  return _methods._mean(a, axis=axis, dtype=dtype,\n",
      "/Users/carmen/anaconda3/lib/python3.8/site-packages/numpy/core/_methods.py:170: RuntimeWarning: invalid value encountered in double_scalars\n",
      "  ret = ret.dtype.type(ret / rcount)\n",
      "/Users/carmen/anaconda3/lib/python3.8/site-packages/numpy/core/_methods.py:233: RuntimeWarning: Degrees of freedom <= 0 for slice\n",
      "  ret = _var(a, axis=axis, dtype=dtype, out=out, ddof=ddof,\n",
      "/Users/carmen/anaconda3/lib/python3.8/site-packages/numpy/core/_methods.py:194: RuntimeWarning: invalid value encountered in true_divide\n",
      "  arrmean = um.true_divide(\n",
      "/Users/carmen/anaconda3/lib/python3.8/site-packages/numpy/core/_methods.py:226: RuntimeWarning: invalid value encountered in double_scalars\n",
      "  ret = ret.dtype.type(ret / rcount)\n"
     ]
    },
    {
     "name": "stdout",
     "output_type": "stream",
     "text": [
      "Haemophilus influenzae Imipenem\n",
      "Haemophilus influenzae Meropenem\n",
      "Acinetobacter baumannii Doripenem\n",
      "Acinetobacter baumannii Imipenem\n",
      "Acinetobacter baumannii Meropenem\n",
      "Serratia marcescens Doripenem\n",
      "Serratia marcescens Imipenem\n",
      "Serratia marcescens Meropenem\n",
      "Streptococcus agalactiae Doripenem\n",
      "Streptococcus agalactiae Imipenem\n",
      "Streptococcus agalactiae Meropenem\n",
      "Klebsiella oxytoca Doripenem\n",
      "Klebsiella oxytoca Imipenem\n",
      "Klebsiella oxytoca Meropenem\n",
      "Streptococcus pyogenes Doripenem\n",
      "Streptococcus pyogenes Imipenem\n",
      "Streptococcus pyogenes Meropenem\n",
      "Citrobacter freundii Doripenem\n",
      "Citrobacter freundii Imipenem\n"
     ]
    },
    {
     "name": "stderr",
     "output_type": "stream",
     "text": [
      "/Users/carmen/anaconda3/lib/python3.8/site-packages/numpy/core/fromnumeric.py:3372: RuntimeWarning: Mean of empty slice.\n",
      "  return _methods._mean(a, axis=axis, dtype=dtype,\n",
      "/Users/carmen/anaconda3/lib/python3.8/site-packages/numpy/core/_methods.py:170: RuntimeWarning: invalid value encountered in double_scalars\n",
      "  ret = ret.dtype.type(ret / rcount)\n",
      "/Users/carmen/anaconda3/lib/python3.8/site-packages/numpy/core/_methods.py:233: RuntimeWarning: Degrees of freedom <= 0 for slice\n",
      "  ret = _var(a, axis=axis, dtype=dtype, out=out, ddof=ddof,\n",
      "/Users/carmen/anaconda3/lib/python3.8/site-packages/numpy/core/_methods.py:194: RuntimeWarning: invalid value encountered in true_divide\n",
      "  arrmean = um.true_divide(\n",
      "/Users/carmen/anaconda3/lib/python3.8/site-packages/numpy/core/_methods.py:226: RuntimeWarning: invalid value encountered in double_scalars\n",
      "  ret = ret.dtype.type(ret / rcount)\n"
     ]
    },
    {
     "name": "stdout",
     "output_type": "stream",
     "text": [
      "Citrobacter freundii Meropenem\n",
      "Proteus mirabilis Doripenem\n"
     ]
    },
    {
     "name": "stderr",
     "output_type": "stream",
     "text": [
      "/Users/carmen/anaconda3/lib/python3.8/site-packages/numpy/core/fromnumeric.py:3372: RuntimeWarning: Mean of empty slice.\n",
      "  return _methods._mean(a, axis=axis, dtype=dtype,\n",
      "/Users/carmen/anaconda3/lib/python3.8/site-packages/numpy/core/_methods.py:170: RuntimeWarning: invalid value encountered in double_scalars\n",
      "  ret = ret.dtype.type(ret / rcount)\n",
      "/Users/carmen/anaconda3/lib/python3.8/site-packages/numpy/core/_methods.py:233: RuntimeWarning: Degrees of freedom <= 0 for slice\n",
      "  ret = _var(a, axis=axis, dtype=dtype, out=out, ddof=ddof,\n",
      "/Users/carmen/anaconda3/lib/python3.8/site-packages/numpy/core/_methods.py:194: RuntimeWarning: invalid value encountered in true_divide\n",
      "  arrmean = um.true_divide(\n",
      "/Users/carmen/anaconda3/lib/python3.8/site-packages/numpy/core/_methods.py:226: RuntimeWarning: invalid value encountered in double_scalars\n",
      "  ret = ret.dtype.type(ret / rcount)\n"
     ]
    },
    {
     "name": "stdout",
     "output_type": "stream",
     "text": [
      "Proteus mirabilis Imipenem\n",
      "Proteus mirabilis Meropenem\n",
      "Citrobacter koseri Doripenem\n",
      "Citrobacter koseri Imipenem\n",
      "Citrobacter koseri Meropenem\n",
      "Bacteroides fragilis Doripenem\n",
      "Bacteroides fragilis Imipenem\n",
      "Bacteroides fragilis Meropenem\n",
      "Morganella morganii Doripenem\n"
     ]
    },
    {
     "name": "stderr",
     "output_type": "stream",
     "text": [
      "/Users/carmen/anaconda3/lib/python3.8/site-packages/numpy/core/fromnumeric.py:3372: RuntimeWarning: Mean of empty slice.\n",
      "  return _methods._mean(a, axis=axis, dtype=dtype,\n",
      "/Users/carmen/anaconda3/lib/python3.8/site-packages/numpy/core/_methods.py:170: RuntimeWarning: invalid value encountered in double_scalars\n",
      "  ret = ret.dtype.type(ret / rcount)\n",
      "/Users/carmen/anaconda3/lib/python3.8/site-packages/numpy/core/_methods.py:233: RuntimeWarning: Degrees of freedom <= 0 for slice\n",
      "  ret = _var(a, axis=axis, dtype=dtype, out=out, ddof=ddof,\n",
      "/Users/carmen/anaconda3/lib/python3.8/site-packages/numpy/core/_methods.py:194: RuntimeWarning: invalid value encountered in true_divide\n",
      "  arrmean = um.true_divide(\n",
      "/Users/carmen/anaconda3/lib/python3.8/site-packages/numpy/core/_methods.py:226: RuntimeWarning: invalid value encountered in double_scalars\n",
      "  ret = ret.dtype.type(ret / rcount)\n"
     ]
    },
    {
     "name": "stdout",
     "output_type": "stream",
     "text": [
      "Morganella morganii Imipenem\n"
     ]
    },
    {
     "name": "stderr",
     "output_type": "stream",
     "text": [
      "/Users/carmen/anaconda3/lib/python3.8/site-packages/numpy/core/fromnumeric.py:3372: RuntimeWarning: Mean of empty slice.\n",
      "  return _methods._mean(a, axis=axis, dtype=dtype,\n",
      "/Users/carmen/anaconda3/lib/python3.8/site-packages/numpy/core/_methods.py:170: RuntimeWarning: invalid value encountered in double_scalars\n",
      "  ret = ret.dtype.type(ret / rcount)\n",
      "/Users/carmen/anaconda3/lib/python3.8/site-packages/numpy/core/_methods.py:233: RuntimeWarning: Degrees of freedom <= 0 for slice\n",
      "  ret = _var(a, axis=axis, dtype=dtype, out=out, ddof=ddof,\n",
      "/Users/carmen/anaconda3/lib/python3.8/site-packages/numpy/core/_methods.py:194: RuntimeWarning: invalid value encountered in true_divide\n",
      "  arrmean = um.true_divide(\n",
      "/Users/carmen/anaconda3/lib/python3.8/site-packages/numpy/core/_methods.py:226: RuntimeWarning: invalid value encountered in double_scalars\n",
      "  ret = ret.dtype.type(ret / rcount)\n"
     ]
    },
    {
     "name": "stdout",
     "output_type": "stream",
     "text": [
      "Morganella morganii Meropenem\n"
     ]
    },
    {
     "name": "stderr",
     "output_type": "stream",
     "text": [
      "/Users/carmen/anaconda3/lib/python3.8/site-packages/numpy/core/fromnumeric.py:3372: RuntimeWarning: Mean of empty slice.\n",
      "  return _methods._mean(a, axis=axis, dtype=dtype,\n",
      "/Users/carmen/anaconda3/lib/python3.8/site-packages/numpy/core/_methods.py:170: RuntimeWarning: invalid value encountered in double_scalars\n",
      "  ret = ret.dtype.type(ret / rcount)\n",
      "/Users/carmen/anaconda3/lib/python3.8/site-packages/numpy/core/_methods.py:233: RuntimeWarning: Degrees of freedom <= 0 for slice\n",
      "  ret = _var(a, axis=axis, dtype=dtype, out=out, ddof=ddof,\n",
      "/Users/carmen/anaconda3/lib/python3.8/site-packages/numpy/core/_methods.py:194: RuntimeWarning: invalid value encountered in true_divide\n",
      "  arrmean = um.true_divide(\n",
      "/Users/carmen/anaconda3/lib/python3.8/site-packages/numpy/core/_methods.py:226: RuntimeWarning: invalid value encountered in double_scalars\n",
      "  ret = ret.dtype.type(ret / rcount)\n"
     ]
    },
    {
     "name": "stdout",
     "output_type": "stream",
     "text": [
      "Acinetobacter pitii Doripenem\n",
      "Acinetobacter pitii Imipenem\n",
      "Acinetobacter pitii Meropenem\n",
      "Proteus vulgaris Doripenem\n"
     ]
    },
    {
     "name": "stderr",
     "output_type": "stream",
     "text": [
      "/Users/carmen/anaconda3/lib/python3.8/site-packages/numpy/core/fromnumeric.py:3372: RuntimeWarning: Mean of empty slice.\n",
      "  return _methods._mean(a, axis=axis, dtype=dtype,\n",
      "/Users/carmen/anaconda3/lib/python3.8/site-packages/numpy/core/_methods.py:170: RuntimeWarning: invalid value encountered in double_scalars\n",
      "  ret = ret.dtype.type(ret / rcount)\n",
      "/Users/carmen/anaconda3/lib/python3.8/site-packages/numpy/core/_methods.py:233: RuntimeWarning: Degrees of freedom <= 0 for slice\n",
      "  ret = _var(a, axis=axis, dtype=dtype, out=out, ddof=ddof,\n",
      "/Users/carmen/anaconda3/lib/python3.8/site-packages/numpy/core/_methods.py:194: RuntimeWarning: invalid value encountered in true_divide\n",
      "  arrmean = um.true_divide(\n",
      "/Users/carmen/anaconda3/lib/python3.8/site-packages/numpy/core/_methods.py:226: RuntimeWarning: invalid value encountered in double_scalars\n",
      "  ret = ret.dtype.type(ret / rcount)\n"
     ]
    },
    {
     "name": "stdout",
     "output_type": "stream",
     "text": [
      "Proteus vulgaris Imipenem\n"
     ]
    },
    {
     "name": "stderr",
     "output_type": "stream",
     "text": [
      "/Users/carmen/anaconda3/lib/python3.8/site-packages/numpy/core/fromnumeric.py:3372: RuntimeWarning: Mean of empty slice.\n",
      "  return _methods._mean(a, axis=axis, dtype=dtype,\n",
      "/Users/carmen/anaconda3/lib/python3.8/site-packages/numpy/core/_methods.py:170: RuntimeWarning: invalid value encountered in double_scalars\n",
      "  ret = ret.dtype.type(ret / rcount)\n",
      "/Users/carmen/anaconda3/lib/python3.8/site-packages/numpy/core/_methods.py:233: RuntimeWarning: Degrees of freedom <= 0 for slice\n",
      "  ret = _var(a, axis=axis, dtype=dtype, out=out, ddof=ddof,\n",
      "/Users/carmen/anaconda3/lib/python3.8/site-packages/numpy/core/_methods.py:194: RuntimeWarning: invalid value encountered in true_divide\n",
      "  arrmean = um.true_divide(\n",
      "/Users/carmen/anaconda3/lib/python3.8/site-packages/numpy/core/_methods.py:226: RuntimeWarning: invalid value encountered in double_scalars\n",
      "  ret = ret.dtype.type(ret / rcount)\n"
     ]
    },
    {
     "name": "stdout",
     "output_type": "stream",
     "text": [
      "Proteus vulgaris Meropenem\n"
     ]
    },
    {
     "name": "stderr",
     "output_type": "stream",
     "text": [
      "/Users/carmen/anaconda3/lib/python3.8/site-packages/numpy/core/fromnumeric.py:3372: RuntimeWarning: Mean of empty slice.\n",
      "  return _methods._mean(a, axis=axis, dtype=dtype,\n",
      "/Users/carmen/anaconda3/lib/python3.8/site-packages/numpy/core/_methods.py:170: RuntimeWarning: invalid value encountered in double_scalars\n",
      "  ret = ret.dtype.type(ret / rcount)\n",
      "/Users/carmen/anaconda3/lib/python3.8/site-packages/numpy/core/_methods.py:233: RuntimeWarning: Degrees of freedom <= 0 for slice\n",
      "  ret = _var(a, axis=axis, dtype=dtype, out=out, ddof=ddof,\n",
      "/Users/carmen/anaconda3/lib/python3.8/site-packages/numpy/core/_methods.py:194: RuntimeWarning: invalid value encountered in true_divide\n",
      "  arrmean = um.true_divide(\n",
      "/Users/carmen/anaconda3/lib/python3.8/site-packages/numpy/core/_methods.py:226: RuntimeWarning: invalid value encountered in double_scalars\n",
      "  ret = ret.dtype.type(ret / rcount)\n"
     ]
    },
    {
     "name": "stdout",
     "output_type": "stream",
     "text": [
      "Enterobacter asburiae Doripenem\n",
      "Enterobacter asburiae Imipenem\n"
     ]
    },
    {
     "name": "stderr",
     "output_type": "stream",
     "text": [
      "/Users/carmen/anaconda3/lib/python3.8/site-packages/numpy/core/fromnumeric.py:3372: RuntimeWarning: Mean of empty slice.\n",
      "  return _methods._mean(a, axis=axis, dtype=dtype,\n",
      "/Users/carmen/anaconda3/lib/python3.8/site-packages/numpy/core/_methods.py:170: RuntimeWarning: invalid value encountered in double_scalars\n",
      "  ret = ret.dtype.type(ret / rcount)\n",
      "/Users/carmen/anaconda3/lib/python3.8/site-packages/numpy/core/_methods.py:233: RuntimeWarning: Degrees of freedom <= 0 for slice\n",
      "  ret = _var(a, axis=axis, dtype=dtype, out=out, ddof=ddof,\n",
      "/Users/carmen/anaconda3/lib/python3.8/site-packages/numpy/core/_methods.py:194: RuntimeWarning: invalid value encountered in true_divide\n",
      "  arrmean = um.true_divide(\n",
      "/Users/carmen/anaconda3/lib/python3.8/site-packages/numpy/core/_methods.py:226: RuntimeWarning: invalid value encountered in double_scalars\n",
      "  ret = ret.dtype.type(ret / rcount)\n"
     ]
    },
    {
     "name": "stdout",
     "output_type": "stream",
     "text": [
      "Enterobacter asburiae Meropenem\n",
      "Acinetobacter lwoffii Doripenem\n"
     ]
    },
    {
     "name": "stderr",
     "output_type": "stream",
     "text": [
      "/Users/carmen/anaconda3/lib/python3.8/site-packages/numpy/core/fromnumeric.py:3372: RuntimeWarning: Mean of empty slice.\n",
      "  return _methods._mean(a, axis=axis, dtype=dtype,\n",
      "/Users/carmen/anaconda3/lib/python3.8/site-packages/numpy/core/_methods.py:170: RuntimeWarning: invalid value encountered in double_scalars\n",
      "  ret = ret.dtype.type(ret / rcount)\n",
      "/Users/carmen/anaconda3/lib/python3.8/site-packages/numpy/core/_methods.py:233: RuntimeWarning: Degrees of freedom <= 0 for slice\n",
      "  ret = _var(a, axis=axis, dtype=dtype, out=out, ddof=ddof,\n",
      "/Users/carmen/anaconda3/lib/python3.8/site-packages/numpy/core/_methods.py:194: RuntimeWarning: invalid value encountered in true_divide\n",
      "  arrmean = um.true_divide(\n",
      "/Users/carmen/anaconda3/lib/python3.8/site-packages/numpy/core/_methods.py:226: RuntimeWarning: invalid value encountered in double_scalars\n",
      "  ret = ret.dtype.type(ret / rcount)\n"
     ]
    },
    {
     "name": "stdout",
     "output_type": "stream",
     "text": [
      "Acinetobacter lwoffii Imipenem\n",
      "Acinetobacter lwoffii Meropenem\n",
      "Streptococcus dysgalactiae Doripenem\n"
     ]
    },
    {
     "name": "stderr",
     "output_type": "stream",
     "text": [
      "/Users/carmen/anaconda3/lib/python3.8/site-packages/numpy/core/fromnumeric.py:3372: RuntimeWarning: Mean of empty slice.\n",
      "  return _methods._mean(a, axis=axis, dtype=dtype,\n",
      "/Users/carmen/anaconda3/lib/python3.8/site-packages/numpy/core/_methods.py:170: RuntimeWarning: invalid value encountered in double_scalars\n",
      "  ret = ret.dtype.type(ret / rcount)\n",
      "/Users/carmen/anaconda3/lib/python3.8/site-packages/numpy/core/_methods.py:233: RuntimeWarning: Degrees of freedom <= 0 for slice\n",
      "  ret = _var(a, axis=axis, dtype=dtype, out=out, ddof=ddof,\n",
      "/Users/carmen/anaconda3/lib/python3.8/site-packages/numpy/core/_methods.py:194: RuntimeWarning: invalid value encountered in true_divide\n",
      "  arrmean = um.true_divide(\n",
      "/Users/carmen/anaconda3/lib/python3.8/site-packages/numpy/core/_methods.py:226: RuntimeWarning: invalid value encountered in double_scalars\n",
      "  ret = ret.dtype.type(ret / rcount)\n"
     ]
    },
    {
     "name": "stdout",
     "output_type": "stream",
     "text": [
      "Streptococcus dysgalactiae Imipenem\n",
      "Streptococcus dysgalactiae Meropenem\n"
     ]
    },
    {
     "name": "stderr",
     "output_type": "stream",
     "text": [
      "/Users/carmen/anaconda3/lib/python3.8/site-packages/numpy/core/fromnumeric.py:3372: RuntimeWarning: Mean of empty slice.\n",
      "  return _methods._mean(a, axis=axis, dtype=dtype,\n",
      "/Users/carmen/anaconda3/lib/python3.8/site-packages/numpy/core/_methods.py:170: RuntimeWarning: invalid value encountered in double_scalars\n",
      "  ret = ret.dtype.type(ret / rcount)\n",
      "/Users/carmen/anaconda3/lib/python3.8/site-packages/numpy/core/_methods.py:233: RuntimeWarning: Degrees of freedom <= 0 for slice\n",
      "  ret = _var(a, axis=axis, dtype=dtype, out=out, ddof=ddof,\n",
      "/Users/carmen/anaconda3/lib/python3.8/site-packages/numpy/core/_methods.py:194: RuntimeWarning: invalid value encountered in true_divide\n",
      "  arrmean = um.true_divide(\n",
      "/Users/carmen/anaconda3/lib/python3.8/site-packages/numpy/core/_methods.py:226: RuntimeWarning: invalid value encountered in double_scalars\n",
      "  ret = ret.dtype.type(ret / rcount)\n"
     ]
    },
    {
     "name": "stdout",
     "output_type": "stream",
     "text": [
      "Clostridioides (Clostridium) difficile Doripenem\n",
      "Clostridioides (Clostridium) difficile Imipenem\n",
      "Clostridioides (Clostridium) difficile Meropenem\n"
     ]
    }
   ],
   "source": [
    "from functions import *\n",
    "DF, pL, bP, drugs=read_dataset('data/')\n",
    "from sklearn import mixture\n",
    "import statsmodels.api as sm\n",
    "\n",
    "lS=[]\n",
    "lA=[]\n",
    "lT=[]\n",
    "lI=[]\n",
    "lEr=[]\n",
    "lRt=[]\n",
    "lRte=[]\n",
    "lSt=[]\n",
    "lSte=[]\n",
    "lRv=[]\n",
    "lRve=[]\n",
    "lRI=[]\n",
    "lSv=[]\n",
    "lSve=[]\n",
    "lSI=[]\n",
    "lB=[]\n",
    "lE=[]\n",
    "lE2=[]\n",
    "N=50\n",
    "for sp in pL:\n",
    "    for dr in drugs:\n",
    "        print(sp,dr)\n",
    "        BP=0\n",
    "        BPbool=False\n",
    "        if dr in bP[sp]:\n",
    "            BP=bP[sp][dr][0]\n",
    "            BPbool=True\n",
    "        #GLOBAL TREND\n",
    "        DFsp=DF[DF.Species==sp]\n",
    "        DFc=pd.DataFrame({'Year': DFsp['Year'], 'MIC': DFsp[dr]})\n",
    "        DFc=DFc.dropna()\n",
    "        yL=get_key(DFc, 'Year')\n",
    "        if len(yL)<2: continue\n",
    "        x1=DFc['Year'].tolist()\n",
    "        y1=DFc['MIC'].tolist()\n",
    "        s1,i1,r1,p1,std1=stats.linregress(x1,y1)\n",
    "        if p1<0.05:\n",
    "            T=s1\n",
    "            Er=std1\n",
    "            I=i1\n",
    "        else:\n",
    "            T=0\n",
    "            Er=0\n",
    "            I=DFc['MIC'].mean()\n",
    "        #LOOP FOR R CLUSTER\n",
    "        Rtrend=[]\n",
    "        Rvalue=[]\n",
    "        Ryear=[]\n",
    "        R2017=[]\n",
    "        Strend=[]\n",
    "        Svalue=[]\n",
    "        Syear=[]\n",
    "        S2017=[]\n",
    "        i=-1\n",
    "        while i<N:\n",
    "            i=i+1\n",
    "            #GET R CLUSTER\n",
    "            try:#sometimes the Gaussian mixture does not converge, we need to generate a new smooth distribution\n",
    "                pY,pM,sM=mic_dist(sp,dr,DF,0)\n",
    "                mDFc, lDFc=extract_rclusternowrite(sp, dr, pY, pM, sM, DF)\n",
    "            except:\n",
    "                i=i-1\n",
    "                continue\n",
    "            #RCLUSTER TREND\n",
    "            yLm=get_key(mDFc, 'Year') \n",
    "            if len(yLm)>=2:\n",
    "                x1=mDFc['Year'].tolist()\n",
    "                y1=mDFc['MIC'].tolist()\n",
    "                s1,i1,r1,p1,std1=stats.linregress(x1,y1)\n",
    "                if p1<0.05:\n",
    "                    Rtrend.append(s1)#Rs=s1\n",
    "                    mDFy=mDFc[mDFc.Year==2017]\n",
    "                    if mDFy.empty:\n",
    "                        R2017.append(s1*2017+i1)\n",
    "                        E=True\n",
    "                    else:\n",
    "                        R2017.append(mDFy['MIC'].mean())\n",
    "                        E=False\n",
    "                else:\n",
    "                    Rtrend.append(0.0)#Rs=0\n",
    "                    R2017.append(mDFc['MIC'].mean())\n",
    "                Rvalue.append(np.average(y1))\n",
    "                Ryear.append(np.average(x1))\n",
    "            #SCLUSTER TREND\n",
    "            yLm=get_key(lDFc, 'Year') \n",
    "            if len(yLm)>=2:\n",
    "                x1=lDFc['Year'].tolist()\n",
    "                y1=lDFc['MIC'].tolist()\n",
    "                s1,i1,r1,p1,std1=stats.linregress(x1,y1)\n",
    "                if p1<0.05:\n",
    "                    Strend.append(s1)#Rs=s1\n",
    "                    lDFy=lDFc[lDFc.Year==2017]\n",
    "                    if lDFy.empty:\n",
    "                        S2017.append(s1*2017+i1)\n",
    "                        E2=True\n",
    "                    else:\n",
    "                        S2017.append(lDFy['MIC'].mean())\n",
    "                        E2=False\n",
    "                else:\n",
    "                    Strend.append(0.0)#Rs=0\n",
    "                    S2017.append(lDFc['MIC'].mean())\n",
    "                Svalue.append(np.mean(y1))\n",
    "                Syear.append(np.mean(x1))\n",
    "        #LISTS\n",
    "        lS.append(sp)\n",
    "        lA.append(dr)\n",
    "        lT.append(T)\n",
    "        lEr.append(Er)\n",
    "        lI.append(I-BP)\n",
    "        lRt.append(np.mean(Rtrend))\n",
    "        lRte.append(np.std(Rtrend))\n",
    "        lRv.append(np.mean(R2017)-BP)\n",
    "        lRve.append(np.std(R2017))\n",
    "        lRI.append(np.mean(Rvalue)-BP-np.mean(Rtrend)*np.mean(Ryear))\n",
    "        lSt.append(np.mean(Strend))\n",
    "        lSte.append(np.std(Strend))\n",
    "        lSv.append(np.mean(S2017)-BP)\n",
    "        lSve.append(np.std(S2017))\n",
    "        lSI.append(np.mean(Svalue)-BP-np.mean(Strend)*np.mean(Syear))\n",
    "        lB.append(BPbool)\n",
    "        lE.append(E)\n",
    "        lE2.append(E2)\n",
    "        newDF=pd.DataFrame({'Species': lS, 'Antibiotic': lA, 'Trend':lT,\n",
    "                    'Trenderror':lEr, 'Intercept': lI,\n",
    "                    'Rtrend':lRt, 'Rtrenderror': lRte, \n",
    "                    'R2017': lRv, 'R2017error': lRve,\n",
    "                    'RIntercept': lRI,\n",
    "                    'Strend': lSt, 'Strenderror': lSte,\n",
    "                    'S2017': lSv, 'S2017error': lSve,\n",
    "                    'SIntercept': lSI, 'Breakpoint': lB,\n",
    "                    'EstimatedR': lE, 'EstimatedS': lE2})\n",
    "        newDF.to_csv('results/Rcluster/resistant_cluster_trends_noBP.csv', index=False, float_format='%.6f')"
   ]
  },
  {
   "cell_type": "markdown",
   "metadata": {},
   "source": [
    "# R TRENDS: COUNTRIES ANALYSIS"
   ]
  },
  {
   "cell_type": "code",
   "execution_count": null,
   "metadata": {},
   "outputs": [],
   "source": [
    "CNT=['United States','Spain','France','Germany','Italy','Belgium', 'Mexico', 'Canada','Argentina','Portugal','Israel']\n",
    "\n",
    "from sklearn import mixture\n",
    "import statsmodels.api as sm\n",
    "for country in CNT:\n",
    "    print(country)\n",
    "    lS=[]\n",
    "    lA=[]\n",
    "    lT=[]\n",
    "    lI=[]\n",
    "    lEr=[]\n",
    "    lRt=[]\n",
    "    lRte=[]\n",
    "    lSt=[]\n",
    "    lSte=[]\n",
    "    lRv=[]\n",
    "    lRve=[]\n",
    "    lRI=[]\n",
    "    lSv=[]\n",
    "    lSve=[]\n",
    "    lSI=[]\n",
    "    lB=[]\n",
    "    #lE=[]\n",
    "    #lE2=[]\n",
    "    N=50\n",
    "    for sp in pL:\n",
    "        for dr in drugs:\n",
    "            print(sp,dr)\n",
    "            BP=0\n",
    "            BPbool=False\n",
    "            if dr in bP[sp]:\n",
    "                BP=bP[sp][dr][0]\n",
    "                BPbool=True\n",
    "            #GLOBAL TREND\n",
    "            DFsp=DF[DF.Species==sp]\n",
    "            DFc=pd.DataFrame({'Year': DFsp['Year'], 'MIC': DFsp[dr]})\n",
    "            DFc=DFc.dropna()\n",
    "            yL=get_key(DFc, 'Year')\n",
    "            if len(yL)<2: continue\n",
    "            x1=DFc['Year'].tolist()\n",
    "            y1=DFc['MIC'].tolist()\n",
    "            s1,i1,r1,p1,std1=stats.linregress(x1,y1)\n",
    "            if p1<0.05:\n",
    "                T=s1\n",
    "                Er=std1\n",
    "                I=i1\n",
    "            else:\n",
    "                T=0\n",
    "                Er=0\n",
    "                I=DFc['MIC'].mean()\n",
    "            #LOOP FOR R CLUSTER\n",
    "            Rtrend=[]\n",
    "            Rvalue=[]\n",
    "            Ryear=[]\n",
    "            R2017=[]\n",
    "            Strend=[]\n",
    "            Svalue=[]\n",
    "            Syear=[]\n",
    "            S2017=[]\n",
    "            i=-1\n",
    "            while i<N:\n",
    "                i=i+1\n",
    "                #GET R CLUSTER\n",
    "                try:#sometimes the Gaussian mixture does not converge, we need to generate a new smooth distribution\n",
    "                    pY,pM,sM=mic_dist(sp,dr,DF,0)\n",
    "                    mDFc, lDFc=extract_rclusternowrite(sp, dr, pY, pM, sM, DF)\n",
    "                except:\n",
    "                    i=i-1\n",
    "                    continue\n",
    "                #RCLUSTER TREND\n",
    "                mDFc=mDFc[mDFc.Country==country]\n",
    "                lDFc=lDFc[lDFc.Country==country]\n",
    "                yLm=get_key(mDFc, 'Year') \n",
    "                if len(yLm)>=2:\n",
    "                    x1=mDFc['Year'].tolist()\n",
    "                    y1=mDFc['MIC'].tolist()\n",
    "                    s1,i1,r1,p1,std1=stats.linregress(x1,y1)\n",
    "                    if p1<0.05:\n",
    "                        Rtrend.append(s1)#Rs=s1\n",
    "                        mDFy=mDFc[mDFc.Year==2017]\n",
    "                        if mDFy.empty:\n",
    "                            R2017.append(s1*2017+i1)\n",
    "                            E=True\n",
    "                        else:\n",
    "                            R2017.append(mDFy['MIC'].mean())\n",
    "                            E=False\n",
    "                    else:\n",
    "                        Rtrend.append(0.0)#Rs=0\n",
    "                        R2017.append(mDFc['MIC'].mean())\n",
    "                    Rvalue.append(np.average(y1))\n",
    "                    Ryear.append(np.average(x1))\n",
    "                #SCLUSTER TREND\n",
    "                yLm=get_key(lDFc, 'Year') \n",
    "                if len(yLm)>=2:\n",
    "                    x1=lDFc['Year'].tolist()\n",
    "                    y1=lDFc['MIC'].tolist()\n",
    "                    s1,i1,r1,p1,std1=stats.linregress(x1,y1)\n",
    "                    if p1<0.05:\n",
    "                        Strend.append(s1)#Rs=s1\n",
    "                        lDFy=lDFc[lDFc.Year==2017]\n",
    "                        if lDFy.empty:\n",
    "                            S2017.append(s1*2017+i1)\n",
    "                            E2=True\n",
    "                        else:\n",
    "                            S2017.append(lDFy['MIC'].mean())\n",
    "                            E2=False\n",
    "                    else:\n",
    "                        Strend.append(0.0)#Rs=0\n",
    "                        S2017.append(lDFc['MIC'].mean())\n",
    "                    Svalue.append(np.mean(y1))\n",
    "                    Syear.append(np.mean(x1))\n",
    "            #LISTS\n",
    "            lS.append(sp)\n",
    "            lA.append(dr)\n",
    "            lT.append(T)\n",
    "            lEr.append(Er)\n",
    "            lI.append(I-BP)\n",
    "            lRt.append(np.mean(Rtrend))\n",
    "            lRte.append(np.std(Rtrend))\n",
    "            lRv.append(np.mean(R2017)-BP)\n",
    "            lRve.append(np.std(R2017))\n",
    "            lRI.append(np.mean(Rvalue)-BP-np.mean(Rtrend)*np.mean(Ryear))\n",
    "            lSt.append(np.mean(Strend))\n",
    "            lSte.append(np.std(Strend))\n",
    "            lSv.append(np.mean(S2017)-BP)\n",
    "            lSve.append(np.std(S2017))\n",
    "            lSI.append(np.mean(Svalue)-BP-np.mean(Strend)*np.mean(Syear))\n",
    "            lB.append(BPbool)\n",
    "            #lE.append(E)\n",
    "            #lE2.append(E2)\n",
    "            newDF=pd.DataFrame({'Species': lS, 'Antibiotic': lA, 'Trend':lT,\n",
    "                        'Trenderror':lEr, 'Intercept': lI,\n",
    "                        'Rtrend':lRt, 'Rtrenderror': lRte, \n",
    "                        'R2017': lRv, 'R2017error': lRve,\n",
    "                        'RIntercept': lRI,\n",
    "                        'Strend': lSt, 'Strenderror': lSte,\n",
    "                        'S2017': lSv, 'S2017error': lSve,\n",
    "                        'SIntercept': lSI, 'Breakpoint': lB})\n",
    "\n",
    "    filename = 'resistant_cluster_trends_{}.csv'.format(country)\n",
    "    newDF.to_csv('results/Rcluster_country/'+filename, float_format='%.3f',index=False)"
   ]
  }
 ],
 "metadata": {
  "kernelspec": {
   "display_name": "Python 3",
   "language": "python",
   "name": "python3"
  },
  "language_info": {
   "codemirror_mode": {
    "name": "ipython",
    "version": 3
   },
   "file_extension": ".py",
   "mimetype": "text/x-python",
   "name": "python",
   "nbconvert_exporter": "python",
   "pygments_lexer": "ipython3",
   "version": "3.8.3"
  }
 },
 "nbformat": 4,
 "nbformat_minor": 4
}
