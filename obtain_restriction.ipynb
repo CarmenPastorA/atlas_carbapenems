{
 "cells": [
  {
   "cell_type": "markdown",
   "metadata": {},
   "source": [
    "# ATLAS RESTIRCTION: CARBAPENEMS ANTIBIOTICS"
   ]
  },
  {
   "cell_type": "markdown",
   "metadata": {},
   "source": [
    "**In this notebook, a restriction to ATLAS is applied to obtain a new database only containing data from 3 Carbapenems: Doripenem, Imipenem and Meropenem**\n"
   ]
  },
  {
   "cell_type": "code",
   "execution_count": 1,
   "metadata": {},
   "outputs": [],
   "source": [
    "# Import liberies\n",
    "import os\n",
    "import sys\n",
    "import pandas as pd\n",
    "import numpy as np\n",
    "import matplotlib.pyplot as plt\n",
    "import seaborn\n",
    "seaborn.set()\n",
    "\n",
    "# Define functions\n",
    "import functions\n",
    "from functions import *"
   ]
  },
  {
   "cell_type": "code",
   "execution_count": 2,
   "metadata": {},
   "outputs": [],
   "source": [
    "# Change paths to working directories\n",
    "path_main = '/Users/carmen/Desktop/TFG'\n",
    "os.chdir(path_main)\n",
    "path_data = os.getcwd() + '/data'\n",
    "path_restricted_species = '/Users/carmen/Desktop/TFG/data/key_Species.txt'\n"
   ]
  },
  {
   "cell_type": "code",
   "execution_count": 3,
   "metadata": {},
   "outputs": [],
   "source": [
    "# Create Carbapenems database\n",
    "df_original = pd.read_excel(path_data+'/Open+Atlas_Reuse_Data.xlsx')\n",
    "df = df_original.copy()\n",
    "df.to_csv(path_data + '/data.csv')\n",
    "\n",
    "data = pd.read_csv(path_restricted_species, header=None)\n",
    "res_species = pd.DataFrame(columns = ['Species', 'Number'])\n",
    "for i in range(len(data)):\n",
    "    string = data.iloc[i].to_string().split()\n",
    "    Number = int(string[-1])\n",
    "    string = string[1:-1]\n",
    "    res_species = res_species.append({'Species' : ' '.join(string) , 'Number' : Number}, ignore_index = True) \n",
    "    \n",
    "options = res_species['Species'].unique() \n",
    "cols = ['Isolate Id', 'Study', 'Species', 'Organism Group', 'Country', 'State',\n",
    "       'Gender', 'Age Group', 'Speciality', 'Source', 'In / Out Patient', 'Year',\n",
    "       'Phenotype', 'Meropenem','Meropenem_I', 'Doripenem', 'Doripenem_I', 'Imipenem', 'Imipenem_I']\n",
    "       \n",
    "\n",
    "# Selecting rows based on condition \n",
    "rslt_df = df[cols] \n",
    "rslt_df = rslt_df[rslt_df['Species'].isin(options)]\n",
    "\n",
    "# Delete null values \n",
    "rslt_df_nonull= rslt_df.dropna(axis=0, how='all', subset=['Meropenem_I','Doripenem_I','Imipenem_I'])\n",
    "rslt_df_nonull.to_excel(path_data + '/Carbapenems_not_treated.xlsx')"
   ]
  }
 ],
 "metadata": {
  "kernelspec": {
   "display_name": "Python 3",
   "language": "python",
   "name": "python3"
  },
  "language_info": {
   "codemirror_mode": {
    "name": "ipython",
    "version": 3
   },
   "file_extension": ".py",
   "mimetype": "text/x-python",
   "name": "python",
   "nbconvert_exporter": "python",
   "pygments_lexer": "ipython3",
   "version": "3.8.3"
  }
 },
 "nbformat": 4,
 "nbformat_minor": 4
}
